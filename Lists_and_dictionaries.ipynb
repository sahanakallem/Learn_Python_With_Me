{
  "nbformat": 4,
  "nbformat_minor": 0,
  "metadata": {
    "colab": {
      "provenance": [],
      "authorship_tag": "ABX9TyM3EtVpqw7wmVo+iXz3Krpy",
      "include_colab_link": true
    },
    "kernelspec": {
      "name": "python3",
      "display_name": "Python 3"
    },
    "language_info": {
      "name": "python"
    }
  },
  "cells": [
    {
      "cell_type": "markdown",
      "metadata": {
        "id": "view-in-github",
        "colab_type": "text"
      },
      "source": [
        "<a href=\"https://colab.research.google.com/github/sahanakallem/Learn_Python_With_Me/blob/main/Python1.ipynb\" target=\"_parent\"><img src=\"https://colab.research.google.com/assets/colab-badge.svg\" alt=\"Open In Colab\"/></a>"
      ]
    },
    {
      "cell_type": "markdown",
      "source": [
        "##Python Basics\n"
      ],
      "metadata": {
        "id": "ILxFCe8Gi-Ha"
      }
    },
    {
      "cell_type": "code",
      "execution_count": 1,
      "metadata": {
        "colab": {
          "base_uri": "https://localhost:8080/"
        },
        "id": "71hZvplciJ-x",
        "outputId": "85bcfce9-57e7-41d6-8b8c-49908c7dffd2"
      },
      "outputs": [
        {
          "output_type": "stream",
          "name": "stdout",
          "text": [
            "Sahana\n"
          ]
        }
      ],
      "source": [
        "name = \"Sahana\"\n",
        "print(name)\n",
        "# Remember that python is case-sensitive"
      ]
    },
    {
      "cell_type": "code",
      "source": [
        "# When you have a long statement\n",
        "Statement1 = 'This notebook helps with python basics.\\\n",
        "I will be glad if it helps.'\n",
        "print(Statement1)"
      ],
      "metadata": {
        "colab": {
          "base_uri": "https://localhost:8080/"
        },
        "id": "haXZRS8ei5rm",
        "outputId": "4e7887b9-330c-48d1-c0c2-4ee80bd9ff7d"
      },
      "execution_count": 2,
      "outputs": [
        {
          "output_type": "stream",
          "name": "stdout",
          "text": [
            "This notebook helps with python basics.I will be glad if it helps.\n"
          ]
        }
      ]
    },
    {
      "cell_type": "code",
      "source": [
        "#Java uses { } for a block of statement. Unlike Java, python uses indentation for the same.\n",
        "\n",
        "age = 12\n",
        "if age<25:\n",
        "  print(age)"
      ],
      "metadata": {
        "colab": {
          "base_uri": "https://localhost:8080/"
        },
        "id": "ILlZB-IMjn7H",
        "outputId": "d2ae3017-a64e-4f3f-f929-ffed60ee2270"
      },
      "execution_count": 3,
      "outputs": [
        {
          "output_type": "stream",
          "name": "stdout",
          "text": [
            "12\n"
          ]
        }
      ]
    },
    {
      "cell_type": "code",
      "source": [
        "# Use Semi-colon when you want to define multiple variables in the same line.\n",
        "a = 1; b = 2; c = 3\n",
        "d = a + b + c\n",
        "print(d)"
      ],
      "metadata": {
        "colab": {
          "base_uri": "https://localhost:8080/"
        },
        "id": "ltrFZ7_ukRst",
        "outputId": "2a410e25-d71c-4adf-da8a-4898652c74e6"
      },
      "execution_count": 6,
      "outputs": [
        {
          "output_type": "stream",
          "name": "stdout",
          "text": [
            "6\n"
          ]
        }
      ]
    },
    {
      "cell_type": "code",
      "source": [
        "# Use the method \"type\" to check the type of the variable.\n",
        "var1 = 1\n",
        "var2 = \"sahana\"\n",
        "var3 = 10.6\n",
        "var4 = True\n",
        "print(type(var1))\n",
        "print(type(var2))\n",
        "print(type(var3))\n",
        "print(type(var4))"
      ],
      "metadata": {
        "colab": {
          "base_uri": "https://localhost:8080/"
        },
        "id": "upTafytPlIdv",
        "outputId": "b3fe4d0d-4599-40af-94a4-73fb9070a2fc"
      },
      "execution_count": 7,
      "outputs": [
        {
          "output_type": "stream",
          "name": "stdout",
          "text": [
            "<class 'int'>\n",
            "<class 'str'>\n",
            "<class 'float'>\n",
            "<class 'bool'>\n"
          ]
        }
      ]
    },
    {
      "cell_type": "code",
      "source": [
        "# we get NameError when we run this cell.\n",
        "# This is because bc is not defined before assigning it to ab.\n",
        "# So, whenever you get this error, go back and check which variable isn't defined.\n",
        "ab = bc\n",
        "print(ab)"
      ],
      "metadata": {
        "colab": {
          "base_uri": "https://localhost:8080/",
          "height": 159
        },
        "id": "VBqHL3iHmByi",
        "outputId": "941d74bd-d488-440c-c514-0f319f6bf19c"
      },
      "execution_count": 8,
      "outputs": [
        {
          "output_type": "error",
          "ename": "NameError",
          "evalue": "name 'bc' is not defined",
          "traceback": [
            "\u001b[0;31m---------------------------------------------------------------------------\u001b[0m",
            "\u001b[0;31mNameError\u001b[0m                                 Traceback (most recent call last)",
            "\u001b[0;32m<ipython-input-8-e825407736a5>\u001b[0m in \u001b[0;36m<cell line: 0>\u001b[0;34m()\u001b[0m\n\u001b[0;32m----> 1\u001b[0;31m \u001b[0mab\u001b[0m \u001b[0;34m=\u001b[0m \u001b[0mbc\u001b[0m\u001b[0;34m\u001b[0m\u001b[0;34m\u001b[0m\u001b[0m\n\u001b[0m\u001b[1;32m      2\u001b[0m \u001b[0mprint\u001b[0m\u001b[0;34m(\u001b[0m\u001b[0mab\u001b[0m\u001b[0;34m)\u001b[0m\u001b[0;34m\u001b[0m\u001b[0;34m\u001b[0m\u001b[0m\n",
            "\u001b[0;31mNameError\u001b[0m: name 'bc' is not defined"
          ]
        }
      ]
    },
    {
      "cell_type": "code",
      "source": [
        "age = 71\n",
        "print('age :', age)"
      ],
      "metadata": {
        "colab": {
          "base_uri": "https://localhost:8080/"
        },
        "id": "iveieBQtmun2",
        "outputId": "91ecc5bf-3324-4170-e3bc-6443d99ef665"
      },
      "execution_count": 9,
      "outputs": [
        {
          "output_type": "stream",
          "name": "stdout",
          "text": [
            "age : 71\n"
          ]
        }
      ]
    },
    {
      "cell_type": "code",
      "source": [
        "# Use input to take input from users.\n",
        "\n",
        "a = input('enter a :')\n",
        "b = float(input('enter b :'))\n",
        "print(a)\n",
        "print(b)"
      ],
      "metadata": {
        "colab": {
          "base_uri": "https://localhost:8080/"
        },
        "id": "foMYK96FsWHc",
        "outputId": "808f85b4-5cc3-4c42-896a-44c3c12a2815"
      },
      "execution_count": 12,
      "outputs": [
        {
          "output_type": "stream",
          "name": "stdout",
          "text": [
            "enter a :5\n",
            "enter b :6\n",
            "5\n",
            "6.0\n"
          ]
        }
      ]
    },
    {
      "cell_type": "markdown",
      "source": [
        "## Lists\n",
        "Lists are mutable i.e, they can be modified."
      ],
      "metadata": {
        "id": "S99ZaB0atUug"
      }
    },
    {
      "cell_type": "code",
      "source": [
        "lst =[]\n",
        "print(type(lst))"
      ],
      "metadata": {
        "colab": {
          "base_uri": "https://localhost:8080/"
        },
        "id": "B9pMFk0itBK-",
        "outputId": "1e3bbb63-ffb7-4e56-b206-6554e08f3b12"
      },
      "execution_count": 13,
      "outputs": [
        {
          "output_type": "stream",
          "name": "stdout",
          "text": [
            "<class 'list'>\n"
          ]
        }
      ]
    },
    {
      "cell_type": "code",
      "source": [
        "names = ['Sahana', 1, 2.6, True] # A list can hold multiple data types.\n",
        "print(names)"
      ],
      "metadata": {
        "colab": {
          "base_uri": "https://localhost:8080/"
        },
        "id": "lsvbrDwdti1H",
        "outputId": "d928022e-75b9-46f2-d955-9770a7b0df16"
      },
      "execution_count": 14,
      "outputs": [
        {
          "output_type": "stream",
          "name": "stdout",
          "text": [
            "['Sahana', 1, 2.6, True]\n"
          ]
        }
      ]
    },
    {
      "cell_type": "code",
      "source": [
        "#It follows Zero based indexing i.e, the indexing starts with 0 from left to right: [0, 1, 2, 3]\n",
        "# If we start from the back i.e, right to left the indexing will be: [-4, -3, -2, -1]\n",
        "print(names[1])\n",
        "print(names[-3])"
      ],
      "metadata": {
        "colab": {
          "base_uri": "https://localhost:8080/"
        },
        "id": "_g0VEuffuICI",
        "outputId": "1d88dc18-8b27-4cc9-f361-ba321bcece73"
      },
      "execution_count": 15,
      "outputs": [
        {
          "output_type": "stream",
          "name": "stdout",
          "text": [
            "1\n",
            "1\n"
          ]
        }
      ]
    },
    {
      "cell_type": "code",
      "source": [
        "# Slicing in lists; syntax - list[start: stop: step]\n",
        "print(names[1:])\n",
        "print(names[0:3:2])"
      ],
      "metadata": {
        "colab": {
          "base_uri": "https://localhost:8080/"
        },
        "id": "R8wkEdpwus7A",
        "outputId": "d7f85763-b36a-450d-9345-a02354a1c0a2"
      },
      "execution_count": 16,
      "outputs": [
        {
          "output_type": "stream",
          "name": "stdout",
          "text": [
            "[1, 2.6, True]\n",
            "['Sahana', 2.6]\n"
          ]
        }
      ]
    },
    {
      "cell_type": "code",
      "source": [
        "fruits = ['apple', 'banana', 'cherry']\n",
        "print(fruits)"
      ],
      "metadata": {
        "colab": {
          "base_uri": "https://localhost:8080/"
        },
        "id": "5TBFF-kfRNpj",
        "outputId": "95747cf9-4100-4c1e-c801-e8bf3604660b"
      },
      "execution_count": 8,
      "outputs": [
        {
          "output_type": "stream",
          "name": "stdout",
          "text": [
            "['apple', 'banana', 'cherry']\n"
          ]
        }
      ]
    },
    {
      "cell_type": "code",
      "source": [
        "#Replacing\n",
        "fruits[1] = 'mango'\n",
        "print(fruits)"
      ],
      "metadata": {
        "colab": {
          "base_uri": "https://localhost:8080/"
        },
        "id": "nU4PanxjRYHF",
        "outputId": "c78f4dea-6501-4278-d275-0d61bf5f4f75"
      },
      "execution_count": 9,
      "outputs": [
        {
          "output_type": "stream",
          "name": "stdout",
          "text": [
            "['apple', 'mango', 'cherry']\n"
          ]
        }
      ]
    },
    {
      "cell_type": "code",
      "source": [
        "# Now see how adding a colon makes a huge difference.\n",
        "fruits[1:] = 'mango'\n",
        "print(fruits)\n",
        "# this happens because in python strings are completely iterable."
      ],
      "metadata": {
        "colab": {
          "base_uri": "https://localhost:8080/"
        },
        "id": "ELE2ILpeRht6",
        "outputId": "f92ef970-6f1a-48a5-a659-52824fd00711"
      },
      "execution_count": 10,
      "outputs": [
        {
          "output_type": "stream",
          "name": "stdout",
          "text": [
            "['apple', 'm', 'a', 'n', 'g', 'o']\n"
          ]
        }
      ]
    },
    {
      "cell_type": "code",
      "source": [
        "fruits[0:] = 'guava'\n",
        "print(fruits)\n",
        "# This is called an exploded list"
      ],
      "metadata": {
        "colab": {
          "base_uri": "https://localhost:8080/"
        },
        "id": "gL9ALbp3RoAg",
        "outputId": "7487deb1-75a2-4fe6-95bf-abda9a7ac753"
      },
      "execution_count": 11,
      "outputs": [
        {
          "output_type": "stream",
          "name": "stdout",
          "text": [
            "['g', 'u', 'a', 'v', 'a']\n"
          ]
        }
      ]
    },
    {
      "cell_type": "code",
      "source": [
        "# Inserting without replacing\n",
        "fruits.insert(2, 'apple')\n",
        "print(fruits)"
      ],
      "metadata": {
        "colab": {
          "base_uri": "https://localhost:8080/"
        },
        "id": "MSx6z1xUSH1P",
        "outputId": "0d9b6149-3e30-45ba-d586-2d2f63d5fcde"
      },
      "execution_count": 12,
      "outputs": [
        {
          "output_type": "stream",
          "name": "stdout",
          "text": [
            "['g', 'u', 'apple', 'a', 'v', 'a']\n"
          ]
        }
      ]
    },
    {
      "cell_type": "code",
      "source": [
        "fruits.insert(4, 'watermelon')\n",
        "print(fruits)"
      ],
      "metadata": {
        "colab": {
          "base_uri": "https://localhost:8080/"
        },
        "id": "7xXBsS2RfNDU",
        "outputId": "d8442758-b895-422e-f1d5-21c1be319bbd"
      },
      "execution_count": 13,
      "outputs": [
        {
          "output_type": "stream",
          "name": "stdout",
          "text": [
            "['g', 'u', 'apple', 'a', 'watermelon', 'v', 'a']\n"
          ]
        }
      ]
    },
    {
      "cell_type": "code",
      "source": [
        "fruits.insert(5, 'apple')\n",
        "print(fruits)"
      ],
      "metadata": {
        "colab": {
          "base_uri": "https://localhost:8080/"
        },
        "id": "nUWgdaf4fTJJ",
        "outputId": "648ead8e-1dc1-4f3c-ce4f-91cd49d29feb"
      },
      "execution_count": 14,
      "outputs": [
        {
          "output_type": "stream",
          "name": "stdout",
          "text": [
            "['g', 'u', 'apple', 'a', 'watermelon', 'apple', 'v', 'a']\n"
          ]
        }
      ]
    },
    {
      "cell_type": "code",
      "source": [
        "# Removes only first occurence\n",
        "fruits.remove('apple')"
      ],
      "metadata": {
        "id": "T0X8YoLQfJmO"
      },
      "execution_count": 15,
      "outputs": []
    },
    {
      "cell_type": "code",
      "source": [
        "print(fruits)"
      ],
      "metadata": {
        "colab": {
          "base_uri": "https://localhost:8080/"
        },
        "id": "ccua9JzvfioD",
        "outputId": "30ff5a58-5581-4fed-a910-7af29287027e"
      },
      "execution_count": 22,
      "outputs": [
        {
          "output_type": "stream",
          "name": "stdout",
          "text": [
            "['g', 'u', 'a', 'watermelon', 'apple', 'v']\n"
          ]
        }
      ]
    },
    {
      "cell_type": "code",
      "source": [
        "# pop removes the last element and gives us\n",
        "fruits2 = fruits.pop()\n",
        "print(fruits2)"
      ],
      "metadata": {
        "colab": {
          "base_uri": "https://localhost:8080/"
        },
        "id": "kbd3fMdYflOb",
        "outputId": "46f428e2-2a40-4432-9e5d-748ecf2af547"
      },
      "execution_count": 17,
      "outputs": [
        {
          "output_type": "stream",
          "name": "stdout",
          "text": [
            "a\n"
          ]
        }
      ]
    },
    {
      "cell_type": "code",
      "source": [
        "print(fruits.index('watermelon'))"
      ],
      "metadata": {
        "colab": {
          "base_uri": "https://localhost:8080/"
        },
        "id": "shQbARc2fxEO",
        "outputId": "ce27cbb6-6bfc-4a4c-9b36-8ee0b838c240"
      },
      "execution_count": 19,
      "outputs": [
        {
          "output_type": "stream",
          "name": "stdout",
          "text": [
            "3\n"
          ]
        }
      ]
    },
    {
      "cell_type": "code",
      "source": [
        "# Append adds at the end of the list\n",
        "fruits.append('a')\n",
        "print(fruits.count('a'))"
      ],
      "metadata": {
        "colab": {
          "base_uri": "https://localhost:8080/"
        },
        "id": "oKd3ZZ0pgC2R",
        "outputId": "f7f63906-6794-4d95-f706-c39a9f9e4099"
      },
      "execution_count": 23,
      "outputs": [
        {
          "output_type": "stream",
          "name": "stdout",
          "text": [
            "2\n"
          ]
        }
      ]
    },
    {
      "cell_type": "code",
      "source": [
        "print(fruits)"
      ],
      "metadata": {
        "colab": {
          "base_uri": "https://localhost:8080/"
        },
        "id": "YYiMCN6NhfBc",
        "outputId": "679b79f5-a9ad-454c-dc3b-32ffa464e4fa"
      },
      "execution_count": 24,
      "outputs": [
        {
          "output_type": "stream",
          "name": "stdout",
          "text": [
            "['g', 'u', 'a', 'watermelon', 'apple', 'v', 'a']\n"
          ]
        }
      ]
    },
    {
      "cell_type": "code",
      "source": [
        "# Sorting the list in ascending order\n",
        "fruits.sort()\n",
        "print(fruits)"
      ],
      "metadata": {
        "colab": {
          "base_uri": "https://localhost:8080/"
        },
        "id": "cUpIdcBphjOr",
        "outputId": "2c201447-ea9c-439f-df19-28fa6350af8e"
      },
      "execution_count": 26,
      "outputs": [
        {
          "output_type": "stream",
          "name": "stdout",
          "text": [
            "['a', 'a', 'apple', 'g', 'u', 'v', 'watermelon']\n"
          ]
        }
      ]
    },
    {
      "cell_type": "code",
      "source": [
        "fruits.reverse()\n",
        "print(fruits)"
      ],
      "metadata": {
        "colab": {
          "base_uri": "https://localhost:8080/"
        },
        "id": "Sgu79vwNhs8U",
        "outputId": "edb5f099-1561-4efb-ac6b-c59c508f2934"
      },
      "execution_count": 27,
      "outputs": [
        {
          "output_type": "stream",
          "name": "stdout",
          "text": [
            "['watermelon', 'v', 'u', 'g', 'apple', 'a', 'a']\n"
          ]
        }
      ]
    },
    {
      "cell_type": "code",
      "source": [
        "fruits.clear()\n",
        "print(fruits)"
      ],
      "metadata": {
        "colab": {
          "base_uri": "https://localhost:8080/"
        },
        "id": "nwUGsNUDhyrk",
        "outputId": "f1cff596-9d99-41c3-968d-1916cbc8796d"
      },
      "execution_count": 29,
      "outputs": [
        {
          "output_type": "stream",
          "name": "stdout",
          "text": [
            "[]\n"
          ]
        }
      ]
    },
    {
      "cell_type": "markdown",
      "source": [
        "#List Comprehension\n",
        "Creating an entire list based on some logic, rule or any linear syntax."
      ],
      "metadata": {
        "id": "zyMEF4zqq4fF"
      }
    },
    {
      "cell_type": "code",
      "source": [
        "# Normal way to create a list\n",
        "lst = []\n",
        "for i in range(6):\n",
        "  lst.append(i**2)\n",
        "\n",
        "print(lst)"
      ],
      "metadata": {
        "colab": {
          "base_uri": "https://localhost:8080/"
        },
        "id": "4KRsOZe2q3W8",
        "outputId": "7430389a-f9b1-4fc8-833e-70ea9bf9472f"
      },
      "execution_count": 1,
      "outputs": [
        {
          "output_type": "stream",
          "name": "stdout",
          "text": [
            "[0, 1, 4, 9, 16, 25]\n"
          ]
        }
      ]
    },
    {
      "cell_type": "code",
      "source": [
        "# List comprehension\n",
        "sqr = [i**2 for i in range(6)]\n",
        "print(sqr)\n"
      ],
      "metadata": {
        "colab": {
          "base_uri": "https://localhost:8080/"
        },
        "id": "HIKCgS8Xh3Vf",
        "outputId": "2aac7457-306e-4fb4-db51-365f7bd240bf"
      },
      "execution_count": 2,
      "outputs": [
        {
          "output_type": "stream",
          "name": "stdout",
          "text": [
            "[0, 1, 4, 9, 16, 25]\n"
          ]
        }
      ]
    },
    {
      "cell_type": "code",
      "source": [
        "# square roots with list comprehension\n",
        "import math\n",
        "sqroot = [math.sqrt(i) for i in range(6)]\n",
        "print(sqroot)"
      ],
      "metadata": {
        "colab": {
          "base_uri": "https://localhost:8080/"
        },
        "id": "nYHsBCqwr1I5",
        "outputId": "9da61138-4f55-4d24-be96-9a36a79b033f"
      },
      "execution_count": 4,
      "outputs": [
        {
          "output_type": "stream",
          "name": "stdout",
          "text": [
            "[0.0, 1.0, 1.4142135623730951, 1.7320508075688772, 2.0, 2.23606797749979]\n"
          ]
        }
      ]
    },
    {
      "cell_type": "markdown",
      "source": [
        "# Nested List"
      ],
      "metadata": {
        "id": "CvDfYMT5wPDz"
      }
    },
    {
      "cell_type": "code",
      "source": [
        "matrix = [[1, 2, 3], [4, 5, 6], [7, 8, 9]]\n",
        "print(matrix)"
      ],
      "metadata": {
        "colab": {
          "base_uri": "https://localhost:8080/"
        },
        "id": "CPG95-SRs8D4",
        "outputId": "87a1608d-14f6-4af1-a4e2-151a784cd4fb"
      },
      "execution_count": 5,
      "outputs": [
        {
          "output_type": "stream",
          "name": "stdout",
          "text": [
            "[[1, 2, 3], [4, 5, 6], [7, 8, 9]]\n"
          ]
        }
      ]
    },
    {
      "cell_type": "code",
      "source": [
        "matrix2 = [[i*j for j in range(1,6)] for i in range(1, 6)]\n",
        "print(matrix2)"
      ],
      "metadata": {
        "colab": {
          "base_uri": "https://localhost:8080/"
        },
        "id": "697MYhiIzk06",
        "outputId": "3b62239f-863f-4895-cc6f-2a7f199435e1"
      },
      "execution_count": 6,
      "outputs": [
        {
          "output_type": "stream",
          "name": "stdout",
          "text": [
            "[[1, 2, 3, 4, 5], [2, 4, 6, 8, 10], [3, 6, 9, 12, 15], [4, 8, 12, 16, 20], [5, 10, 15, 20, 25]]\n"
          ]
        }
      ]
    },
    {
      "cell_type": "code",
      "source": [],
      "metadata": {
        "id": "PskwJBbuEA7g"
      },
      "execution_count": null,
      "outputs": []
    }
  ]
}
