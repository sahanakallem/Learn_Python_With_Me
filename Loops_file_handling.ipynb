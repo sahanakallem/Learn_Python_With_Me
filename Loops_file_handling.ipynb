{
  "nbformat": 4,
  "nbformat_minor": 0,
  "metadata": {
    "colab": {
      "provenance": [],
      "authorship_tag": "ABX9TyM2WZPGU34P+AH5/kqIu9Vh",
      "include_colab_link": true
    },
    "kernelspec": {
      "name": "python3",
      "display_name": "Python 3"
    },
    "language_info": {
      "name": "python"
    }
  },
  "cells": [
    {
      "cell_type": "markdown",
      "metadata": {
        "id": "view-in-github",
        "colab_type": "text"
      },
      "source": [
        "<a href=\"https://colab.research.google.com/github/sahanakallem/Learn_Python_With_Me/blob/main/Loops_file_handling.ipynb\" target=\"_parent\"><img src=\"https://colab.research.google.com/assets/colab-badge.svg\" alt=\"Open In Colab\"/></a>"
      ]
    },
    {
      "cell_type": "markdown",
      "source": [
        "Check the most common element in the list"
      ],
      "metadata": {
        "id": "g-RzUSkwIyMn"
      }
    },
    {
      "cell_type": "code",
      "execution_count": 11,
      "metadata": {
        "id": "dmM79wxv6_Ag",
        "colab": {
          "base_uri": "https://localhost:8080/"
        },
        "outputId": "bf595421-0718-4b12-c8d9-aa3bd6bc6baa"
      },
      "outputs": [
        {
          "output_type": "stream",
          "name": "stdout",
          "text": [
            "4\n"
          ]
        }
      ],
      "source": [
        "from collections import Counter\n",
        "\n",
        "lst = [1, 2, 2, 3, 3, 3, 4, 4, 4, 4]\n",
        "most_common_element = Counter(lst).most_common(1)[0][0]\n",
        "\n",
        "print(most_common_element)  # Output: 4\n",
        "# Counter(lst).most_common(1) returns a list of tuples with the most common element and its count.\n",
        "#[0][0] extracts the element itself."
      ]
    },
    {
      "cell_type": "markdown",
      "source": [
        "Check whether given words are anagrams. (eg: silent and listen are anagrams)"
      ],
      "metadata": {
        "id": "zZL7ot2SJZLt"
      }
    },
    {
      "cell_type": "code",
      "source": [
        "def are_anagrams(str1, str2):\n",
        "  return sorted(str1) == sorted(str2)\n",
        "# The above method is simple and effective\n",
        "print(are_anagrams(\"listen\", \"silent\"))\n",
        "print(are_anagrams(\"hello\", \"hii\"))"
      ],
      "metadata": {
        "colab": {
          "base_uri": "https://localhost:8080/"
        },
        "id": "G_Gg-Omoo4nR",
        "outputId": "76a431f4-2be9-4d80-e66e-ddb6de62bd7c"
      },
      "execution_count": 1,
      "outputs": [
        {
          "output_type": "stream",
          "name": "stdout",
          "text": [
            "True\n",
            "False\n"
          ]
        }
      ]
    },
    {
      "cell_type": "code",
      "source": [
        "from collections import Counter\n",
        "# Using counter is more optimized and works best for longer strings\n",
        "def are_anag(str1, str2):\n",
        "  return Counter(str1) == Counter(str2)\n",
        "\n",
        "print(are_anag(\"star\", \"rats\"))"
      ],
      "metadata": {
        "colab": {
          "base_uri": "https://localhost:8080/"
        },
        "id": "PRb7EcPIKwJz",
        "outputId": "fbdf4603-debd-4b33-ad3f-3ff7c000fb90"
      },
      "execution_count": 3,
      "outputs": [
        {
          "output_type": "stream",
          "name": "stdout",
          "text": [
            "True\n"
          ]
        }
      ]
    },
    {
      "cell_type": "code",
      "source": [
        "data = [(\"fruit\", \"apple\"), (\"fruit\", \"banana\"), (\"vegetable\", \"carrot\"), (\"vegetable\", \"spinach\"), (\"fruit\", \"cherry\")]\n",
        "grouped_data = {}\n",
        "for category, item in data:\n",
        "  grouped_data.setdefault(category, set()).add(item)\n",
        "print(grouped_data)"
      ],
      "metadata": {
        "colab": {
          "base_uri": "https://localhost:8080/"
        },
        "id": "YKFh3CfYLH0x",
        "outputId": "9587876f-0908-4518-ebab-7650e234b072"
      },
      "execution_count": 1,
      "outputs": [
        {
          "output_type": "stream",
          "name": "stdout",
          "text": [
            "{'fruit': {'apple', 'banana', 'cherry'}, 'vegetable': {'spinach', 'carrot'}}\n"
          ]
        }
      ]
    },
    {
      "cell_type": "markdown",
      "source": [
        "##Operators"
      ],
      "metadata": {
        "id": "pYs2AnpdEaJZ"
      }
    },
    {
      "cell_type": "markdown",
      "source": [
        "Arithmetic operators"
      ],
      "metadata": {
        "id": "ceEUbHbMGI6P"
      }
    },
    {
      "cell_type": "code",
      "source": [
        "a = 10\n",
        "b = 5\n",
        "print(a+b)\n",
        "print(a-b)\n",
        "print(a*b)\n",
        "print(a/b)\n",
        "print(a**b) # exponent\n",
        "print(a//b) #Floor division - rounding upto the nearest integer\n",
        "print(a%b) # modulus - remainder"
      ],
      "metadata": {
        "colab": {
          "base_uri": "https://localhost:8080/"
        },
        "id": "7RqbRnKDEQ0_",
        "outputId": "9cc88229-2801-4ceb-bf80-9ef98f6c8c49"
      },
      "execution_count": 2,
      "outputs": [
        {
          "output_type": "stream",
          "name": "stdout",
          "text": [
            "15\n",
            "5\n",
            "50\n",
            "2.0\n",
            "100000\n",
            "2\n",
            "0\n"
          ]
        }
      ]
    },
    {
      "cell_type": "markdown",
      "source": [
        "Comparision operators"
      ],
      "metadata": {
        "id": "EGkk1_pDGME0"
      }
    },
    {
      "cell_type": "code",
      "source": [
        "print(a == b ) # Equals to\n",
        "print(a != b) # Not equals to\n",
        "print(a > b) # greater than\n",
        "print(a < b) # less than\n",
        "print(a >= b)\n",
        "print(a <= b)"
      ],
      "metadata": {
        "colab": {
          "base_uri": "https://localhost:8080/"
        },
        "id": "U7ZYfgn2GBZv",
        "outputId": "228de890-ca06-44b8-95c0-f3241ac87581"
      },
      "execution_count": 3,
      "outputs": [
        {
          "output_type": "stream",
          "name": "stdout",
          "text": [
            "False\n",
            "True\n",
            "True\n",
            "False\n",
            "True\n",
            "False\n"
          ]
        }
      ]
    },
    {
      "cell_type": "markdown",
      "source": [
        "Logical operators"
      ],
      "metadata": {
        "id": "Ii2pthfyIMeI"
      }
    },
    {
      "cell_type": "code",
      "source": [
        "a = True\n",
        "b = False\n",
        "print(a and b)\n",
        "print(a or b)\n",
        "print(not b)"
      ],
      "metadata": {
        "colab": {
          "base_uri": "https://localhost:8080/"
        },
        "id": "6-4pM6aBILOs",
        "outputId": "3e40eb3b-812c-48a4-f2b2-f9e8b905291f"
      },
      "execution_count": 4,
      "outputs": [
        {
          "output_type": "stream",
          "name": "stdout",
          "text": [
            "False\n",
            "True\n",
            "True\n"
          ]
        }
      ]
    },
    {
      "cell_type": "markdown",
      "source": [
        "Conditional statements"
      ],
      "metadata": {
        "id": "66ozN0pFJaWm"
      }
    },
    {
      "cell_type": "code",
      "source": [
        "age = 21\n",
        "if age < 13:\n",
        "  print(\"You are a kid\")\n",
        "elif age < 20:\n",
        "  print(\"you are a teenager\")\n",
        "else:\n",
        "  print(\"You are an adult\")"
      ],
      "metadata": {
        "colab": {
          "base_uri": "https://localhost:8080/"
        },
        "id": "JOANDMCUIl0X",
        "outputId": "b2718a04-becf-4765-9d2c-f38daaebc5bc"
      },
      "execution_count": 6,
      "outputs": [
        {
          "output_type": "stream",
          "name": "stdout",
          "text": [
            "You are an adult\n"
          ]
        }
      ]
    },
    {
      "cell_type": "code",
      "source": [
        "num = int(input('enter a number'))\n",
        "if num > 0:\n",
        "  print('positive')\n",
        "  if num%2 == 0:\n",
        "    print('its an even number')\n",
        "  else:\n",
        "    print(\"its an odd number\")\n",
        "else:\n",
        "  print(\"the number is 0 or negative\")"
      ],
      "metadata": {
        "colab": {
          "base_uri": "https://localhost:8080/"
        },
        "id": "dBtlHKLDNbKk",
        "outputId": "c072ed29-267f-4b95-a0c4-fbbe661ff95b"
      },
      "execution_count": 7,
      "outputs": [
        {
          "output_type": "stream",
          "name": "stdout",
          "text": [
            "enter a number-1\n",
            "the number is 0 or negative\n"
          ]
        }
      ]
    },
    {
      "cell_type": "markdown",
      "source": [
        "##Loops"
      ],
      "metadata": {
        "id": "CSmHefceOTO8"
      }
    },
    {
      "cell_type": "code",
      "source": [
        "for i in range(5, 20, 2):\n",
        "  print(i)"
      ],
      "metadata": {
        "colab": {
          "base_uri": "https://localhost:8080/"
        },
        "id": "rYqlNUvsOSuH",
        "outputId": "f04f1a4f-3589-4574-bd05-7a04fe7bee5c"
      },
      "execution_count": 9,
      "outputs": [
        {
          "output_type": "stream",
          "name": "stdout",
          "text": [
            "5\n",
            "7\n",
            "9\n",
            "11\n",
            "13\n",
            "15\n",
            "17\n",
            "19\n"
          ]
        }
      ]
    },
    {
      "cell_type": "code",
      "source": [
        "count = 0\n",
        "while count<5:\n",
        "  print(count)\n",
        "  count = count+1"
      ],
      "metadata": {
        "colab": {
          "base_uri": "https://localhost:8080/"
        },
        "id": "1sEoSAx7Ooxm",
        "outputId": "da54df52-5a4a-4fc1-85e0-a4b47ec78e96"
      },
      "execution_count": 10,
      "outputs": [
        {
          "output_type": "stream",
          "name": "stdout",
          "text": [
            "0\n",
            "1\n",
            "2\n",
            "3\n",
            "4\n"
          ]
        }
      ]
    },
    {
      "cell_type": "code",
      "source": [
        "for num in range(10):\n",
        "  if num ==5:\n",
        "    break\n",
        "  print(num)"
      ],
      "metadata": {
        "colab": {
          "base_uri": "https://localhost:8080/"
        },
        "id": "VY7Ba-6NVHKp",
        "outputId": "02b967bb-4f9b-498e-b62b-7aacdc624fac"
      },
      "execution_count": 11,
      "outputs": [
        {
          "output_type": "stream",
          "name": "stdout",
          "text": [
            "0\n",
            "1\n",
            "2\n",
            "3\n",
            "4\n"
          ]
        }
      ]
    },
    {
      "cell_type": "code",
      "source": [
        "for num in range(1, 101):\n",
        "  if num > 1:\n",
        "    for i in range(2, num):\n",
        "      if num % i == 0:\n",
        "        break\n",
        "    else:\n",
        "      print(num)\n",
        "# In Python, a for loop can have an else block.\n",
        "# The else block runs only if the for loop completes all iterations\n",
        "# without hitting a break statement."
      ],
      "metadata": {
        "colab": {
          "base_uri": "https://localhost:8080/"
        },
        "id": "lyTc5J3_VlbW",
        "outputId": "be394f97-640a-42ab-8c91-98e129da5094"
      },
      "execution_count": 14,
      "outputs": [
        {
          "output_type": "stream",
          "name": "stdout",
          "text": [
            "2\n",
            "3\n",
            "5\n",
            "7\n",
            "11\n",
            "13\n",
            "17\n",
            "19\n",
            "23\n",
            "29\n",
            "31\n",
            "37\n",
            "41\n",
            "43\n",
            "47\n",
            "53\n",
            "59\n",
            "61\n",
            "67\n",
            "71\n",
            "73\n",
            "79\n",
            "83\n",
            "89\n",
            "97\n"
          ]
        }
      ]
    },
    {
      "cell_type": "code",
      "source": [
        "name = \"sahana\"\n",
        "grade = \"A\"\n",
        "print(\"My name is {} and My grade is {}\".format(name, grade))"
      ],
      "metadata": {
        "colab": {
          "base_uri": "https://localhost:8080/"
        },
        "id": "H0lko8tvcgYJ",
        "outputId": "2be4abb4-4d9f-425d-fa77-c2b1d84c5fa8"
      },
      "execution_count": 15,
      "outputs": [
        {
          "output_type": "stream",
          "name": "stdout",
          "text": [
            "My name is sahana and My grade is A\n"
          ]
        }
      ]
    },
    {
      "cell_type": "code",
      "source": [
        "print(\"I have an {1} and a {0}\".format('MacBook', 'iPad'))"
      ],
      "metadata": {
        "colab": {
          "base_uri": "https://localhost:8080/"
        },
        "id": "yIChhSPydl_U",
        "outputId": "d6233023-a0af-48c6-9464-ad4ef2fb985c"
      },
      "execution_count": 16,
      "outputs": [
        {
          "output_type": "stream",
          "name": "stdout",
          "text": [
            "I have an iPad and a MacBook\n"
          ]
        }
      ]
    },
    {
      "cell_type": "code",
      "source": [
        "# This is just like a placeholder\n",
        "print(\"My fav fruit is {fruit} and my fav car is {car}\".format(fruit = \"Kiwi\", car = \"Jaguar\"))"
      ],
      "metadata": {
        "colab": {
          "base_uri": "https://localhost:8080/"
        },
        "id": "h9jsvpTUeO6X",
        "outputId": "be938767-3052-482a-af57-39421b8fd8f3"
      },
      "execution_count": 17,
      "outputs": [
        {
          "output_type": "stream",
          "name": "stdout",
          "text": [
            "My fav fruit is Kiwi and my fav car is Jaguar\n"
          ]
        }
      ]
    },
    {
      "cell_type": "code",
      "source": [
        "pi = 3.141592\n",
        "print(\"value of pi upto 3 decimals is {:.3f}\".format(pi))"
      ],
      "metadata": {
        "colab": {
          "base_uri": "https://localhost:8080/"
        },
        "id": "K_7iALPwejOD",
        "outputId": "59a557ab-3bed-4b26-f810-0803ba0de4c9"
      },
      "execution_count": 19,
      "outputs": [
        {
          "output_type": "stream",
          "name": "stdout",
          "text": [
            "value of pi upto 3 decimals is 3.142\n"
          ]
        }
      ]
    },
    {
      "cell_type": "code",
      "source": [
        "# To split any string into a list\n",
        "s = \"Hello there! how are you?\"\n",
        "print(s.split())"
      ],
      "metadata": {
        "colab": {
          "base_uri": "https://localhost:8080/"
        },
        "id": "76uwKdb4iivv",
        "outputId": "8ae7b6de-5ead-4aa3-c8f2-a67c64f085ec"
      },
      "execution_count": 20,
      "outputs": [
        {
          "output_type": "stream",
          "name": "stdout",
          "text": [
            "['Hello', 'there!', 'how', 'are', 'you?']\n"
          ]
        }
      ]
    },
    {
      "cell_type": "markdown",
      "source": [
        "##Functions"
      ],
      "metadata": {
        "id": "JXYjpfoIPbvN"
      }
    },
    {
      "cell_type": "code",
      "source": [
        "#Syntax\n",
        "def function_name(parameters):\n",
        "  return answer"
      ],
      "metadata": {
        "id": "MCN2l5d_ir56"
      },
      "execution_count": 21,
      "outputs": []
    },
    {
      "cell_type": "code",
      "source": [
        "def even_or_odd(num):\n",
        "  if num%2 == 0:\n",
        "    print('even')\n",
        "  else:\n",
        "    print('odd')\n",
        "\n",
        "even_or_odd(10) #Calling the function for num = 10"
      ],
      "metadata": {
        "colab": {
          "base_uri": "https://localhost:8080/"
        },
        "id": "X87fOiFFTOhx",
        "outputId": "bbeb5ec6-7805-4f74-8be1-d5908de7d5d4"
      },
      "execution_count": 1,
      "outputs": [
        {
          "output_type": "stream",
          "name": "stdout",
          "text": [
            "even\n"
          ]
        }
      ]
    },
    {
      "cell_type": "markdown",
      "source": [
        "##Lambda Functions\n",
        "Syntax-\n",
        "lambda arguments: expression"
      ],
      "metadata": {
        "id": "jG2gFgL7T05w"
      }
    },
    {
      "cell_type": "code",
      "source": [
        "addition = lambda a,b : a+b\n",
        "print(addition(2, 9))"
      ],
      "metadata": {
        "colab": {
          "base_uri": "https://localhost:8080/"
        },
        "id": "rQyVpLB2TrZr",
        "outputId": "33377cc6-6518-4b6d-8427-215788e729fd"
      },
      "execution_count": 2,
      "outputs": [
        {
          "output_type": "stream",
          "name": "stdout",
          "text": [
            "11\n"
          ]
        }
      ]
    },
    {
      "cell_type": "markdown",
      "source": [
        "##Map Function"
      ],
      "metadata": {
        "id": "8Gwl5uH1Yitn"
      }
    },
    {
      "cell_type": "code",
      "source": [
        "nums = [1, 2, 3, 4, 5]\n",
        "list(map(lambda x:x**2, nums))"
      ],
      "metadata": {
        "colab": {
          "base_uri": "https://localhost:8080/"
        },
        "id": "QsaOt7fGUOQq",
        "outputId": "4debb122-052f-4d8a-8e5b-9872786a3c00"
      },
      "execution_count": 3,
      "outputs": [
        {
          "output_type": "execute_result",
          "data": {
            "text/plain": [
              "[1, 4, 9, 16, 25]"
            ]
          },
          "metadata": {},
          "execution_count": 3
        }
      ]
    },
    {
      "cell_type": "code",
      "source": [
        "num1 = [1, 2, 3]\n",
        "num2 = [4, 5, 6]\n",
        "num_add = list(map(lambda x, y: x+y, num1, num2))\n",
        "print(num_add)"
      ],
      "metadata": {
        "colab": {
          "base_uri": "https://localhost:8080/"
        },
        "id": "eiR0s8lpYbng",
        "outputId": "706f46d8-e1d3-49ee-bc7b-0aff66b76e3d"
      },
      "execution_count": 5,
      "outputs": [
        {
          "output_type": "stream",
          "name": "stdout",
          "text": [
            "[5, 7, 9]\n"
          ]
        }
      ]
    },
    {
      "cell_type": "code",
      "source": [
        "def get_name(person):\n",
        "  return person['name']\n",
        "\n",
        "people = [{'name':'Sahana', 'age':67},\n",
        "          {'name':'Sreeja', 'age':77}]\n",
        "\n",
        "list(map(get_name, people))"
      ],
      "metadata": {
        "colab": {
          "base_uri": "https://localhost:8080/"
        },
        "id": "rBRFnNYlY5iB",
        "outputId": "8ffe7b7b-3c8b-4284-fc4b-2eaab2cdf01c"
      },
      "execution_count": 6,
      "outputs": [
        {
          "output_type": "execute_result",
          "data": {
            "text/plain": [
              "['Sahana', 'Sreeja']"
            ]
          },
          "metadata": {},
          "execution_count": 6
        }
      ]
    },
    {
      "cell_type": "markdown",
      "source": [
        "##Filter Functions"
      ],
      "metadata": {
        "id": "aameRRBIdbh9"
      }
    },
    {
      "cell_type": "code",
      "source": [
        "def even(num):\n",
        "  if num%2 == 0:\n",
        "    return True\n",
        "lst = [ 1, 2, 3,4 ,5 , 6, 7, 8, 9]"
      ],
      "metadata": {
        "id": "4lZ5MHQJdaUV"
      },
      "execution_count": 7,
      "outputs": []
    },
    {
      "cell_type": "code",
      "source": [
        "list(filter(even, lst))"
      ],
      "metadata": {
        "colab": {
          "base_uri": "https://localhost:8080/"
        },
        "id": "15SZJQC0f4Ad",
        "outputId": "70b6a628-a8cd-4d44-d2a8-3e729c34a2d4"
      },
      "execution_count": 8,
      "outputs": [
        {
          "output_type": "execute_result",
          "data": {
            "text/plain": [
              "[2, 4, 6, 8]"
            ]
          },
          "metadata": {},
          "execution_count": 8
        }
      ]
    },
    {
      "cell_type": "code",
      "source": [
        "print(list(filter(lambda x : x>3 and x%2 ==0, lst)))"
      ],
      "metadata": {
        "colab": {
          "base_uri": "https://localhost:8080/"
        },
        "id": "Rwsmk5t4h5Yx",
        "outputId": "50d72051-0260-418d-a7f7-0caa52453371"
      },
      "execution_count": 10,
      "outputs": [
        {
          "output_type": "stream",
          "name": "stdout",
          "text": [
            "[4, 6, 8]\n"
          ]
        }
      ]
    },
    {
      "cell_type": "markdown",
      "source": [
        "##File Handling"
      ],
      "metadata": {
        "id": "4S7Kk6WsiYj-"
      }
    },
    {
      "cell_type": "code",
      "source": [
        "with open(\"example.txt\", \"r\") as file:\n",
        "  content = file.read()\n",
        "  print(content)"
      ],
      "metadata": {
        "colab": {
          "base_uri": "https://localhost:8080/"
        },
        "id": "bqFyNNtxiIe9",
        "outputId": "dcc6d917-d3c2-4af6-bbe4-639be5a85e74"
      },
      "execution_count": 4,
      "outputs": [
        {
          "output_type": "stream",
          "name": "stdout",
          "text": [
            "This is an example file.\n",
            "Just to try file handling.\n"
          ]
        }
      ]
    },
    {
      "cell_type": "code",
      "source": [
        "with open(\"example.txt\", \"r\") as file:\n",
        "  line = file.readline()\n",
        "  #print(line)\n",
        "  for line in file:\n",
        "    print(line.strip()) # removes spaces before and after each line.\n"
      ],
      "metadata": {
        "colab": {
          "base_uri": "https://localhost:8080/"
        },
        "id": "N2XAjA6Hm3us",
        "outputId": "804e7b69-ed11-4588-cff3-1c5259af27ca"
      },
      "execution_count": 5,
      "outputs": [
        {
          "output_type": "stream",
          "name": "stdout",
          "text": [
            "Just to try file handling.\n"
          ]
        }
      ]
    },
    {
      "cell_type": "code",
      "source": [
        "with open(\"example.txt\", \"r\") as file:\n",
        "  lines = file.readlines()\n",
        "  print(lines)"
      ],
      "metadata": {
        "colab": {
          "base_uri": "https://localhost:8080/"
        },
        "id": "BLJqH5i42LCr",
        "outputId": "ffba1b8c-68cd-4338-f733-2e6d273711e6"
      },
      "execution_count": 6,
      "outputs": [
        {
          "output_type": "stream",
          "name": "stdout",
          "text": [
            "['This is an example file.\\n', 'Just to try file handling.']\n"
          ]
        }
      ]
    },
    {
      "cell_type": "code",
      "source": [
        "with open(\"example.txt\", \"w\") as file:\n",
        "  file.write(\"hello there!\")\n",
        "  file.write(\"56\\n\")\n",
        "  file.write(\"347\")"
      ],
      "metadata": {
        "id": "2A8X5I_N2unA"
      },
      "execution_count": 7,
      "outputs": []
    },
    {
      "cell_type": "code",
      "source": [
        "with open(\"example.txt\", \"r\") as file:\n",
        "  content = file.read()\n",
        "  print(content)"
      ],
      "metadata": {
        "colab": {
          "base_uri": "https://localhost:8080/"
        },
        "id": "-2s4b6Tq51RR",
        "outputId": "a6c4f53a-c61b-48e9-b1e4-e19446ccfafb"
      },
      "execution_count": 8,
      "outputs": [
        {
          "output_type": "stream",
          "name": "stdout",
          "text": [
            "hello there!56\n",
            "347\n"
          ]
        }
      ]
    },
    {
      "cell_type": "code",
      "source": [
        "with open(\"example.txt\", \"a\") as file:\n",
        "  file.write(\"Hii class!\\n\")\n",
        "  file.write(\"morning\")\n"
      ],
      "metadata": {
        "id": "5bJOtu41Vr_9"
      },
      "execution_count": 9,
      "outputs": []
    },
    {
      "cell_type": "code",
      "source": [
        "with open(\"example.txt\", \"r\") as file:\n",
        "  content = file.read()\n",
        "  print(content)"
      ],
      "metadata": {
        "colab": {
          "base_uri": "https://localhost:8080/"
        },
        "id": "K9ZyfssXV6lU",
        "outputId": "0862a1be-1a8b-4fd7-e8ad-562043297649"
      },
      "execution_count": 10,
      "outputs": [
        {
          "output_type": "stream",
          "name": "stdout",
          "text": [
            "hello there!56\n",
            "347Hii class!\n",
            "morning\n"
          ]
        }
      ]
    },
    {
      "cell_type": "code",
      "source": [
        "lines = [\"first\\n\", \"second\\n\", \"third\\n\"]\n",
        "with open(\"example.txt\", \"a\") as file:\n",
        "  file.writelines(lines)"
      ],
      "metadata": {
        "id": "dLVI0-ODbuxs"
      },
      "execution_count": 11,
      "outputs": []
    },
    {
      "cell_type": "code",
      "source": [
        "with open(\"example.txt\", \"r\") as file:\n",
        "  content = file.read()\n",
        "  print(content)"
      ],
      "metadata": {
        "colab": {
          "base_uri": "https://localhost:8080/"
        },
        "id": "khEw-lQlchVQ",
        "outputId": "f987ceed-c2ab-4903-ee52-603f31827a8c"
      },
      "execution_count": 12,
      "outputs": [
        {
          "output_type": "stream",
          "name": "stdout",
          "text": [
            "hello there!56\n",
            "347Hii class!\n",
            "morningfirst\n",
            "second\n",
            "third\n",
            "\n"
          ]
        }
      ]
    },
    {
      "cell_type": "markdown",
      "source": [
        "##File Path"
      ],
      "metadata": {
        "id": "ksow71R-cqU9"
      }
    },
    {
      "cell_type": "code",
      "source": [
        "import os\n",
        "cwd = os.getcwd() # CWD- current working directory\n",
        "print(f\"cwd is {cwd}\")"
      ],
      "metadata": {
        "colab": {
          "base_uri": "https://localhost:8080/"
        },
        "id": "atGrAzgrcjfS",
        "outputId": "f4007a0e-b601-4c6c-e5d8-2e801ca93d65"
      },
      "execution_count": 13,
      "outputs": [
        {
          "output_type": "stream",
          "name": "stdout",
          "text": [
            "cwd is /content\n"
          ]
        }
      ]
    },
    {
      "cell_type": "code",
      "source": [
        "newdir = 'mydir'\n",
        "os.mkdir(newdir)"
      ],
      "metadata": {
        "id": "0Cgu75Rr57XV"
      },
      "execution_count": null,
      "outputs": []
    },
    {
      "cell_type": "code",
      "source": [
        "newdir = 'mydir1'\n",
        "os.mkdir(newdir)\n",
        "print(f'New directory {newdir} created')"
      ],
      "metadata": {
        "colab": {
          "base_uri": "https://localhost:8080/"
        },
        "id": "-zxNaepHc_6k",
        "outputId": "4758a32a-f01a-41f4-f469-4baec7e96aed"
      },
      "execution_count": 15,
      "outputs": [
        {
          "output_type": "stream",
          "name": "stdout",
          "text": [
            "New directory mydir1 created\n"
          ]
        }
      ]
    },
    {
      "cell_type": "code",
      "source": [
        "items = os.listdir('.') #Everything in the listdir will be given\n",
        "print(items)"
      ],
      "metadata": {
        "colab": {
          "base_uri": "https://localhost:8080/"
        },
        "id": "cNShdYZ8c_pS",
        "outputId": "b4a1d362-b92a-4747-90ba-03fcba7d0c86"
      },
      "execution_count": 16,
      "outputs": [
        {
          "output_type": "stream",
          "name": "stdout",
          "text": [
            "['.config', 'mydir1', 'example.txt', 'mydir', 'sample_data']\n"
          ]
        }
      ]
    },
    {
      "cell_type": "code",
      "source": [
        "# Path joining\n",
        "dir_name = 'mydir'\n",
        "file_name = 'example.txt'\n",
        "full_path = os.path.join(dir_name, file_name)\n",
        "print(full_path)"
      ],
      "metadata": {
        "colab": {
          "base_uri": "https://localhost:8080/"
        },
        "id": "d3jO8kbTdoKy",
        "outputId": "22db6dad-74a6-4ed4-fb7c-78e6792ae802"
      },
      "execution_count": 17,
      "outputs": [
        {
          "output_type": "stream",
          "name": "stdout",
          "text": [
            "mydir/example.txt\n"
          ]
        }
      ]
    },
    {
      "cell_type": "code",
      "source": [
        "print(os.path.join(os.getcwd(), dir_name, file_name))"
      ],
      "metadata": {
        "colab": {
          "base_uri": "https://localhost:8080/"
        },
        "id": "38rPxaLD6Vqq",
        "outputId": "2e850204-2a57-4e9b-ca88-36c9c13818d3"
      },
      "execution_count": 18,
      "outputs": [
        {
          "output_type": "stream",
          "name": "stdout",
          "text": [
            "/content/mydir/example.txt\n"
          ]
        }
      ]
    }
  ]
}