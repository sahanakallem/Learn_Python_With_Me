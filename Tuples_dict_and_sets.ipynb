{
  "nbformat": 4,
  "nbformat_minor": 0,
  "metadata": {
    "colab": {
      "provenance": [],
      "authorship_tag": "ABX9TyOjgELUajXHF3Xl3yIjFDm2",
      "include_colab_link": true
    },
    "kernelspec": {
      "name": "python3",
      "display_name": "Python 3"
    },
    "language_info": {
      "name": "python"
    }
  },
  "cells": [
    {
      "cell_type": "markdown",
      "metadata": {
        "id": "view-in-github",
        "colab_type": "text"
      },
      "source": [
        "<a href=\"https://colab.research.google.com/github/sahanakallem/Learn_Python_With_Me/blob/main/Tuples_and_sets.ipynb\" target=\"_parent\"><img src=\"https://colab.research.google.com/assets/colab-badge.svg\" alt=\"Open In Colab\"/></a>"
      ]
    },
    {
      "cell_type": "markdown",
      "source": [
        "#Tuples\n",
        "They are ordered collection of items. Tuples are immutable."
      ],
      "metadata": {
        "id": "5WA9bUXMHgnv"
      }
    },
    {
      "cell_type": "code",
      "execution_count": null,
      "metadata": {
        "id": "5NIoyJEK4uAz",
        "colab": {
          "base_uri": "https://localhost:8080/"
        },
        "outputId": "527b8dd4-2c50-4254-a20f-b8eeaf2e095e"
      },
      "outputs": [
        {
          "output_type": "stream",
          "name": "stdout",
          "text": [
            "()\n",
            "<class 'tuple'>\n"
          ]
        }
      ],
      "source": [
        "tuple1 = ()\n",
        "print(tuple1)\n",
        "print(type(tuple1))"
      ]
    },
    {
      "cell_type": "code",
      "source": [
        "lst = [1, 2, 3, 4]\n",
        "print(lst)"
      ],
      "metadata": {
        "colab": {
          "base_uri": "https://localhost:8080/"
        },
        "id": "4zO3MQmlbXhU",
        "outputId": "ec2e1801-a043-4f68-8da3-50b5f83098c7"
      },
      "execution_count": null,
      "outputs": [
        {
          "output_type": "stream",
          "name": "stdout",
          "text": [
            "[1, 2, 3, 4]\n"
          ]
        }
      ]
    },
    {
      "cell_type": "code",
      "source": [
        "tup1 = tuple(lst)\n",
        "print(tup1)"
      ],
      "metadata": {
        "colab": {
          "base_uri": "https://localhost:8080/"
        },
        "id": "Ela5YKZfbXUe",
        "outputId": "c25d449e-58dc-4c31-baf1-44bd7f18203d"
      },
      "execution_count": null,
      "outputs": [
        {
          "output_type": "stream",
          "name": "stdout",
          "text": [
            "(1, 2, 3, 4)\n"
          ]
        }
      ]
    },
    {
      "cell_type": "code",
      "source": [
        "t2 = (\"Hii\", \"this\", \"is\", \"Sahana\")\n",
        "concat_tup = tup1+t2\n",
        "print(concat_tup)"
      ],
      "metadata": {
        "colab": {
          "base_uri": "https://localhost:8080/"
        },
        "id": "aZK-P1VHbXJz",
        "outputId": "d7506c90-57b3-4916-d562-a79637e03684"
      },
      "execution_count": null,
      "outputs": [
        {
          "output_type": "stream",
          "name": "stdout",
          "text": [
            "(1, 2, 3, 4, 'Hii', 'this', 'is', 'Sahana')\n"
          ]
        }
      ]
    },
    {
      "cell_type": "code",
      "source": [
        "print(t2 * 2)"
      ],
      "metadata": {
        "colab": {
          "base_uri": "https://localhost:8080/"
        },
        "id": "83b1LYybbW8o",
        "outputId": "849225a5-24f4-4157-d33d-39108efa10e7"
      },
      "execution_count": null,
      "outputs": [
        {
          "output_type": "stream",
          "name": "stdout",
          "text": [
            "('Hii', 'this', 'is', 'Sahana', 'Hii', 'this', 'is', 'Sahana')\n"
          ]
        }
      ]
    },
    {
      "cell_type": "code",
      "source": [
        "print(t2.count(\"Hii\"))\n",
        "print(t2.index(\"is\"))"
      ],
      "metadata": {
        "colab": {
          "base_uri": "https://localhost:8080/"
        },
        "id": "e29reBvjSE6D",
        "outputId": "810799cd-fbcc-4af1-aee8-5f16deae9408"
      },
      "execution_count": null,
      "outputs": [
        {
          "output_type": "stream",
          "name": "stdout",
          "text": [
            "1\n",
            "2\n"
          ]
        }
      ]
    },
    {
      "cell_type": "code",
      "source": [
        "# Observe what the * is doing in the following 3 code cells.\n",
        "t = (1, 2, 3, 4, 5 ,6 ,7, 8, 9)\n",
        "first, *middle, last = t\n",
        "print(first)\n",
        "print(middle)\n",
        "print(last)"
      ],
      "metadata": {
        "colab": {
          "base_uri": "https://localhost:8080/"
        },
        "id": "D6_UiP4VSfT4",
        "outputId": "8311c7eb-eff3-4b54-9ed6-2d02f144ab49"
      },
      "execution_count": null,
      "outputs": [
        {
          "output_type": "stream",
          "name": "stdout",
          "text": [
            "1\n",
            "[2, 3, 4, 5, 6, 7, 8]\n",
            "9\n"
          ]
        }
      ]
    },
    {
      "cell_type": "code",
      "source": [
        "t = (1, 2, 3, 4, 5 ,6 ,7, 8, 9)\n",
        "*first, middle, last = t\n",
        "print(first)\n",
        "print(middle)\n",
        "print(last)"
      ],
      "metadata": {
        "colab": {
          "base_uri": "https://localhost:8080/"
        },
        "id": "N-CzQJ4OS8GH",
        "outputId": "6072df26-8bac-40aa-cd16-d5124cd8fdeb"
      },
      "execution_count": null,
      "outputs": [
        {
          "output_type": "stream",
          "name": "stdout",
          "text": [
            "[1, 2, 3, 4, 5, 6, 7]\n",
            "8\n",
            "9\n"
          ]
        }
      ]
    },
    {
      "cell_type": "code",
      "source": [
        "t = (1, 2, 3, 4, 5 ,6 ,7, 8, 9)\n",
        "first, middle, *last = t\n",
        "print(first)\n",
        "print(middle)\n",
        "print(last)"
      ],
      "metadata": {
        "colab": {
          "base_uri": "https://localhost:8080/"
        },
        "id": "2CJ4MNPmTAmD",
        "outputId": "8e3c0a33-067b-4006-e889-61fb67ebf69f"
      },
      "execution_count": null,
      "outputs": [
        {
          "output_type": "stream",
          "name": "stdout",
          "text": [
            "1\n",
            "2\n",
            "[3, 4, 5, 6, 7, 8, 9]\n"
          ]
        }
      ]
    },
    {
      "cell_type": "code",
      "source": [
        "t3 = ([1, 2, 3, 4], [5, 6, 7, 8],('hello', 'UB'))\n",
        "result = [t3[0][1], t3[1][2], t3[2][1]]\n",
        "print(result)"
      ],
      "metadata": {
        "colab": {
          "base_uri": "https://localhost:8080/"
        },
        "id": "Uw0Rp16ETEju",
        "outputId": "2ccb8187-05e0-45ae-8e7b-532010d9689f"
      },
      "execution_count": null,
      "outputs": [
        {
          "output_type": "stream",
          "name": "stdout",
          "text": [
            "[2, 7, 'UB']\n"
          ]
        }
      ]
    },
    {
      "cell_type": "markdown",
      "source": [
        "##Dictionaries\n",
        "They are unordered collection of items. It stores data in the form of key-value pairs. Keys must be unique and immutable. DICTIONARIES ARE **MUTABLE**"
      ],
      "metadata": {
        "id": "iLLC01C0VyZk"
      }
    },
    {
      "cell_type": "code",
      "source": [
        "dict1 = {}\n",
        "print(type(dict1))"
      ],
      "metadata": {
        "colab": {
          "base_uri": "https://localhost:8080/"
        },
        "id": "J6E0jl-4TLjt",
        "outputId": "c0953166-f13a-43fd-86c3-ab22fc7d5775"
      },
      "execution_count": null,
      "outputs": [
        {
          "output_type": "stream",
          "name": "stdout",
          "text": [
            "<class 'dict'>\n"
          ]
        }
      ]
    },
    {
      "cell_type": "code",
      "source": [
        "student = {'name': 'Sahana', 'id' : 12, 'grade': 'A'}\n",
        "print(student)"
      ],
      "metadata": {
        "colab": {
          "base_uri": "https://localhost:8080/"
        },
        "id": "gLnTsWW3WWjC",
        "outputId": "dcd809d4-5412-4db2-f8eb-88d50f04d62c"
      },
      "execution_count": null,
      "outputs": [
        {
          "output_type": "stream",
          "name": "stdout",
          "text": [
            "{'name': 'Sahana', 'id': 12, 'grade': 'A'}\n"
          ]
        }
      ]
    },
    {
      "cell_type": "code",
      "source": [
        "print(student['grade'])\n",
        "print(student.get('name'))"
      ],
      "metadata": {
        "colab": {
          "base_uri": "https://localhost:8080/"
        },
        "id": "YwXYAYlMXCQd",
        "outputId": "22e8a2a7-dfca-4182-e955-29839ad2b38c"
      },
      "execution_count": null,
      "outputs": [
        {
          "output_type": "stream",
          "name": "stdout",
          "text": [
            "A\n",
            "Sahana\n"
          ]
        }
      ]
    },
    {
      "cell_type": "code",
      "source": [
        "del student['grade']\n",
        "print(student)"
      ],
      "metadata": {
        "colab": {
          "base_uri": "https://localhost:8080/"
        },
        "id": "QNVjWzbbXqJA",
        "outputId": "a37d61f0-4b20-4f79-be14-1910d29be021"
      },
      "execution_count": null,
      "outputs": [
        {
          "output_type": "stream",
          "name": "stdout",
          "text": [
            "{'name': 'Sahana', 'id': 12}\n"
          ]
        }
      ]
    },
    {
      "cell_type": "code",
      "source": [
        "print(student.keys())\n",
        "print(student.values())"
      ],
      "metadata": {
        "colab": {
          "base_uri": "https://localhost:8080/"
        },
        "id": "A4mjrJQsXvuT",
        "outputId": "914180ce-4ec3-4b5d-89ba-01082364e5c1"
      },
      "execution_count": null,
      "outputs": [
        {
          "output_type": "stream",
          "name": "stdout",
          "text": [
            "dict_keys(['name', 'id'])\n",
            "dict_values(['Sahana', 12])\n"
          ]
        }
      ]
    },
    {
      "cell_type": "code",
      "source": [
        "student2 = student.copy()\n",
        "print(student2)"
      ],
      "metadata": {
        "colab": {
          "base_uri": "https://localhost:8080/"
        },
        "id": "pJkmZhysX7a0",
        "outputId": "9a3b4fe5-873b-4f2d-ede8-1c4376554384"
      },
      "execution_count": null,
      "outputs": [
        {
          "output_type": "stream",
          "name": "stdout",
          "text": [
            "{'name': 'Sahana', 'id': 12}\n"
          ]
        }
      ]
    },
    {
      "cell_type": "code",
      "source": [
        "#Dictionaries inside list\n",
        "students = [{'name': 'Sahana', 'id': 12}, {'name': 'Sreeja', 'id': 11}]\n",
        "print(students)"
      ],
      "metadata": {
        "colab": {
          "base_uri": "https://localhost:8080/"
        },
        "id": "uVdHbs0XbbIX",
        "outputId": "cd70976f-2f67-45ad-b526-bf7c623ece65"
      },
      "execution_count": null,
      "outputs": [
        {
          "output_type": "stream",
          "name": "stdout",
          "text": [
            "[{'name': 'Sahana', 'id': 12}, {'name': 'Sreeja', 'id': 11}]\n"
          ]
        }
      ]
    },
    {
      "cell_type": "code",
      "source": [
        "#Sorting and merging\n",
        "dict1 = { 'a': 10, 'b':20, 'c': 13}\n",
        "dict2 = { 'b': 10, 'c':20, 'a': 13, 'd': 67}\n",
        "merged_dict = {key:dict1.get(key,0)+dict2.get(key,0) for key in set(dict1)|set(dict2)}\n",
        "print(merged_dict)"
      ],
      "metadata": {
        "colab": {
          "base_uri": "https://localhost:8080/"
        },
        "id": "pbtUpgoUbybS",
        "outputId": "18aef54d-6d1e-4768-f77c-409a3ac69bc3"
      },
      "execution_count": null,
      "outputs": [
        {
          "output_type": "stream",
          "name": "stdout",
          "text": [
            "{'b': 30, 'a': 23, 'd': 67, 'c': 33}\n"
          ]
        }
      ]
    },
    {
      "cell_type": "code",
      "source": [
        "#merging2 = [dict1.items() + dict2.items()]\n",
        "merging2 = [dict1.items(), dict2.items()]\n",
        "print(merging2)"
      ],
      "metadata": {
        "colab": {
          "base_uri": "https://localhost:8080/"
        },
        "id": "zUrMWbJYdBIy",
        "outputId": "7cc6e7c1-2e4e-4875-9747-c1a417edcb88"
      },
      "execution_count": null,
      "outputs": [
        {
          "output_type": "stream",
          "name": "stdout",
          "text": [
            "[dict_items([('a', 10), ('b', 20), ('c', 13)]), dict_items([('b', 10), ('c', 20), ('a', 13), ('d', 67)])]\n"
          ]
        }
      ]
    },
    {
      "cell_type": "code",
      "source": [
        "data = {'person': {'name':'Sahana', 'age' : '23', 'location': {'city': 'New York', 'country': 'USA'}}}\n",
        "flat_dict = {'name':data['person']['name'], 'age': data['person']['age']}\n",
        "print(flat_dict)"
      ],
      "metadata": {
        "colab": {
          "base_uri": "https://localhost:8080/"
        },
        "id": "fwF1RFokdZuQ",
        "outputId": "35375540-777e-4377-de64-635bc9b04d74"
      },
      "execution_count": null,
      "outputs": [
        {
          "output_type": "stream",
          "name": "stdout",
          "text": [
            "{'name': 'Sahana', 'age': '23'}\n"
          ]
        }
      ]
    },
    {
      "cell_type": "code",
      "source": [
        "employees = [{'name':'Bob', 'Department':'IT'},\n",
        "             {'name':'Alice', 'Department':'HR'},\n",
        "             {'name':'Charlie', 'Department':'IT'},\n",
        "             {'name':'David', 'Department':'HR'}\n",
        "]\n",
        "# {'HR': ['Alice', 'David], 'IT' : ['Bob', 'Charlie']}"
      ],
      "metadata": {
        "id": "C0_ZkF3Ie677"
      },
      "execution_count": null,
      "outputs": []
    },
    {
      "cell_type": "code",
      "source": [
        "x = []\n",
        "y = []\n",
        "group = {}\n",
        "for employee in employees:\n",
        "  if employee['Department'] == 'HR':\n",
        "    x.append(employee['name'])\n",
        "  else:\n",
        "    y.append(employee['name'])\n",
        "group['HR'] = x\n",
        "group['IT'] = y\n",
        "print(group)"
      ],
      "metadata": {
        "colab": {
          "base_uri": "https://localhost:8080/"
        },
        "id": "XxHgX0Pgl_EC",
        "outputId": "1686d85f-6d8f-4dbe-fc87-990e68600570"
      },
      "execution_count": null,
      "outputs": [
        {
          "output_type": "stream",
          "name": "stdout",
          "text": [
            "{'HR': ['Alice', 'David'], 'IT': ['Bob', 'Charlie']}\n"
          ]
        }
      ]
    },
    {
      "cell_type": "code",
      "source": [
        "#Easy way to do it:\n",
        "grouped = {}\n",
        "for employee in employees:\n",
        "  grouped.setdefault(employee['Department'],[]).append(employee['name'])\n",
        "print(grouped)"
      ],
      "metadata": {
        "colab": {
          "base_uri": "https://localhost:8080/"
        },
        "id": "bP78WD9tm8US",
        "outputId": "55b2fa0b-b803-4848-b082-55abcb9c6d96"
      },
      "execution_count": null,
      "outputs": [
        {
          "output_type": "stream",
          "name": "stdout",
          "text": [
            "{'IT': ['Bob', 'Charlie'], 'HR': ['Alice', 'David']}\n"
          ]
        }
      ]
    },
    {
      "cell_type": "markdown",
      "source": [
        "##Sets\n",
        "They only store unique items. Sets are ordered. Even though our input is unordered, the result will be in ascending order y default"
      ],
      "metadata": {
        "id": "OdzokelfnpDp"
      }
    },
    {
      "cell_type": "code",
      "source": [
        "set1 = {1, 2, 3, 4}\n",
        "print(set1)\n",
        "print(type(set1))"
      ],
      "metadata": {
        "colab": {
          "base_uri": "https://localhost:8080/"
        },
        "id": "JRHRDPEenyfB",
        "outputId": "77c360de-bef6-4b08-89f2-497bcb6d156e"
      },
      "execution_count": null,
      "outputs": [
        {
          "output_type": "stream",
          "name": "stdout",
          "text": [
            "{1, 2, 3, 4}\n",
            "<class 'set'>\n"
          ]
        }
      ]
    },
    {
      "cell_type": "code",
      "source": [
        "set1 = set([1, 2, 5, 5, 3, 4])\n",
        "print(set1)"
      ],
      "metadata": {
        "colab": {
          "base_uri": "https://localhost:8080/"
        },
        "id": "eLCzAjron91F",
        "outputId": "82d0d8dc-49b2-421c-ec33-748f9a50dd55"
      },
      "execution_count": null,
      "outputs": [
        {
          "output_type": "stream",
          "name": "stdout",
          "text": [
            "{1, 2, 3, 4, 5}\n"
          ]
        }
      ]
    },
    {
      "cell_type": "code",
      "source": [
        "set1.add(1.5)\n",
        "print(set1)"
      ],
      "metadata": {
        "colab": {
          "base_uri": "https://localhost:8080/"
        },
        "id": "XQEnrS8CoEF3",
        "outputId": "3bf847cc-22b3-4d8f-a24d-868dfbf840b9"
      },
      "execution_count": null,
      "outputs": [
        {
          "output_type": "stream",
          "name": "stdout",
          "text": [
            "{1, 2, 3, 4, 5, 1.5}\n"
          ]
        }
      ]
    },
    {
      "cell_type": "code",
      "source": [
        "set1.remove(1.5)\n",
        "print(set1)"
      ],
      "metadata": {
        "colab": {
          "base_uri": "https://localhost:8080/"
        },
        "id": "X42gmYgnombU",
        "outputId": "c1def0e7-b2cd-40c6-d446-6ec1d883618e"
      },
      "execution_count": null,
      "outputs": [
        {
          "output_type": "stream",
          "name": "stdout",
          "text": [
            "{1, 2, 3, 4, 5}\n"
          ]
        }
      ]
    },
    {
      "cell_type": "code",
      "source": [
        "set1.pop()"
      ],
      "metadata": {
        "colab": {
          "base_uri": "https://localhost:8080/"
        },
        "id": "UMzWDyKWpdST",
        "outputId": "08cdc6d8-e5b9-40bf-ec02-68e06c8206fa"
      },
      "execution_count": null,
      "outputs": [
        {
          "output_type": "execute_result",
          "data": {
            "text/plain": [
              "1"
            ]
          },
          "metadata": {},
          "execution_count": 52
        }
      ]
    },
    {
      "cell_type": "code",
      "source": [
        "print(set1)"
      ],
      "metadata": {
        "colab": {
          "base_uri": "https://localhost:8080/"
        },
        "id": "8vi6cPJpphG3",
        "outputId": "274b5604-f57c-41c1-f818-920b47a369b3"
      },
      "execution_count": null,
      "outputs": [
        {
          "output_type": "stream",
          "name": "stdout",
          "text": [
            "{2, 3, 4, 5}\n"
          ]
        }
      ]
    },
    {
      "cell_type": "code",
      "source": [
        "set1.clear()\n",
        "print(set1)"
      ],
      "metadata": {
        "colab": {
          "base_uri": "https://localhost:8080/"
        },
        "id": "C9uFzmCGyMFF",
        "outputId": "eb36aaf8-3d77-4ef4-83ce-230c06b9504f"
      },
      "execution_count": null,
      "outputs": [
        {
          "output_type": "stream",
          "name": "stdout",
          "text": [
            "set()\n"
          ]
        }
      ]
    },
    {
      "cell_type": "code",
      "source": [
        "set1 = {1, 2, 3, 4, 6, 6, 7}\n",
        "print(3 in set1)"
      ],
      "metadata": {
        "colab": {
          "base_uri": "https://localhost:8080/"
        },
        "id": "ygT6J8RoyV91",
        "outputId": "f030ec1b-f506-4896-b40e-fe72e218ef02"
      },
      "execution_count": null,
      "outputs": [
        {
          "output_type": "stream",
          "name": "stdout",
          "text": [
            "True\n"
          ]
        }
      ]
    },
    {
      "cell_type": "code",
      "source": [
        "set2 = { 11, 12, 13, 14, 15, 16, 17}\n",
        "union_set = set1.union(set2)\n",
        "print(union_set)"
      ],
      "metadata": {
        "colab": {
          "base_uri": "https://localhost:8080/"
        },
        "id": "9XI5o5TDyhvP",
        "outputId": "fb2b5e8e-558e-4d89-c03c-bac439a41457"
      },
      "execution_count": null,
      "outputs": [
        {
          "output_type": "stream",
          "name": "stdout",
          "text": [
            "{1, 2, 3, 4, 6, 7, 11, 12, 13, 14, 15, 16, 17}\n"
          ]
        }
      ]
    },
    {
      "cell_type": "code",
      "source": [
        "inter_set = set1.intersection(set2)\n",
        "print(inter_set)"
      ],
      "metadata": {
        "colab": {
          "base_uri": "https://localhost:8080/"
        },
        "id": "jaL0_VW23KvG",
        "outputId": "7c42fe34-cd93-4612-b0c1-736a2bab2fb6"
      },
      "execution_count": null,
      "outputs": [
        {
          "output_type": "stream",
          "name": "stdout",
          "text": [
            "set()\n"
          ]
        }
      ]
    },
    {
      "cell_type": "code",
      "source": [
        "print(set1.difference(set2))\n",
        "print(set2.difference(set1))"
      ],
      "metadata": {
        "colab": {
          "base_uri": "https://localhost:8080/"
        },
        "id": "QrBLXDow3TTx",
        "outputId": "34dcb053-f6e3-45bd-b7ae-01f817c17552"
      },
      "execution_count": null,
      "outputs": [
        {
          "output_type": "stream",
          "name": "stdout",
          "text": [
            "{1, 2, 3, 4, 6, 7}\n",
            "{11, 12, 13, 14, 15, 16, 17}\n"
          ]
        }
      ]
    },
    {
      "cell_type": "code",
      "source": [
        "# Symmetric difference eliminates what ever is common\n",
        "set1 = { 1, 2, 3, 4}\n",
        "set2 = {2, 4, 5, 6, 7}\n",
        "print(set1.symmetric_difference(set2))\n",
        "# For symmetric difference between more than 2 sets: set1 ^ set2 ^ set3...."
      ],
      "metadata": {
        "colab": {
          "base_uri": "https://localhost:8080/"
        },
        "id": "lcc25vCb3byw",
        "outputId": "b5176e47-17ce-42da-9e51-6927b086582d"
      },
      "execution_count": null,
      "outputs": [
        {
          "output_type": "stream",
          "name": "stdout",
          "text": [
            "{1, 3, 5, 6, 7}\n"
          ]
        }
      ]
    },
    {
      "cell_type": "code",
      "source": [
        "set1 = {1, 2, 3, 4, 5, 6}\n",
        "set2 = {4, 5, 6, 3, 4, 2}\n",
        "set3 = {7, 8, 9, 7, 2, 9}\n",
        "print(set1 ^ set2 ^ set3)"
      ],
      "metadata": {
        "colab": {
          "base_uri": "https://localhost:8080/"
        },
        "id": "q157CXMt4mOX",
        "outputId": "499de7ac-f90d-4b40-b8d5-c3eb5f2d0a14"
      },
      "execution_count": null,
      "outputs": [
        {
          "output_type": "stream",
          "name": "stdout",
          "text": [
            "{1, 2, 7, 8, 9}\n"
          ]
        }
      ]
    },
    {
      "cell_type": "code",
      "source": [
        "from functools import reduce\n",
        "print(reduce(set.symmetric_difference, [set1, set2, set3]))"
      ],
      "metadata": {
        "colab": {
          "base_uri": "https://localhost:8080/"
        },
        "id": "j0qhMydj5Yq7",
        "outputId": "6a82d6c9-303f-472a-d243-276fcebfe608"
      },
      "execution_count": null,
      "outputs": [
        {
          "output_type": "stream",
          "name": "stdout",
          "text": [
            "{1, 2, 7, 8, 9}\n"
          ]
        }
      ]
    },
    {
      "cell_type": "code",
      "source": [
        "set4 = {1, 2, 4}\n",
        "print(set4.issubset(set1)) #Is set4 a subset of set1?\n",
        "print(set4.issuperset(set1))"
      ],
      "metadata": {
        "colab": {
          "base_uri": "https://localhost:8080/"
        },
        "id": "J00UvNy65lOP",
        "outputId": "a39a19bb-f92f-482a-aa81-2e1784d10e93"
      },
      "execution_count": null,
      "outputs": [
        {
          "output_type": "stream",
          "name": "stdout",
          "text": [
            "True\n",
            "False\n"
          ]
        }
      ]
    },
    {
      "cell_type": "code",
      "source": [
        "statement = 'I need my coffee before my breakfast'\n",
        "words = statement.split()\n",
        "unique_words = set(words)\n",
        "print(len(unique_words))\n"
      ],
      "metadata": {
        "id": "lnv-M7CV1OL3",
        "colab": {
          "base_uri": "https://localhost:8080/"
        },
        "outputId": "1909e15e-7196-4c78-dca1-9171bb431689"
      },
      "execution_count": 1,
      "outputs": [
        {
          "output_type": "stream",
          "name": "stdout",
          "text": [
            "6\n"
          ]
        }
      ]
    },
    {
      "cell_type": "markdown",
      "source": [
        "## Understand the Difference"
      ],
      "metadata": {
        "id": "Kv_Utj1N3TiT"
      }
    },
    {
      "cell_type": "code",
      "source": [
        "#the statement below creates an empty dictionary and not a set.\n",
        "s = {}\n",
        "print(type(s))"
      ],
      "metadata": {
        "colab": {
          "base_uri": "https://localhost:8080/"
        },
        "id": "8n-IJnwz2670",
        "outputId": "33ebb983-0b24-419c-d0b7-47efa9c9f73a"
      },
      "execution_count": 2,
      "outputs": [
        {
          "output_type": "stream",
          "name": "stdout",
          "text": [
            "<class 'dict'>\n"
          ]
        }
      ]
    },
    {
      "cell_type": "code",
      "source": [
        "s = set()\n",
        "print(type(s))"
      ],
      "metadata": {
        "colab": {
          "base_uri": "https://localhost:8080/"
        },
        "id": "LTd9M_VT2-zJ",
        "outputId": "b15b44e5-0ca2-463f-d41c-2b6ffe3b609e"
      },
      "execution_count": 3,
      "outputs": [
        {
          "output_type": "stream",
          "name": "stdout",
          "text": [
            "<class 'set'>\n"
          ]
        }
      ]
    },
    {
      "cell_type": "code",
      "source": [
        "s = ()\n",
        "print(type(s))"
      ],
      "metadata": {
        "colab": {
          "base_uri": "https://localhost:8080/"
        },
        "id": "orn77V3U3KOM",
        "outputId": "60176c60-6b9a-460e-ff5a-9e0b5c755891"
      },
      "execution_count": 4,
      "outputs": [
        {
          "output_type": "stream",
          "name": "stdout",
          "text": [
            "<class 'tuple'>\n"
          ]
        }
      ]
    },
    {
      "cell_type": "code",
      "source": [
        "s = []\n",
        "print(type(s))"
      ],
      "metadata": {
        "colab": {
          "base_uri": "https://localhost:8080/"
        },
        "id": "2b4xpXQO3Oga",
        "outputId": "afa60f4e-b51f-4a56-b154-a03dce2051fb"
      },
      "execution_count": 5,
      "outputs": [
        {
          "output_type": "stream",
          "name": "stdout",
          "text": [
            "<class 'list'>\n"
          ]
        }
      ]
    }
  ]
}
